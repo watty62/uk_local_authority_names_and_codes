{
 "cells": [
  {
   "cell_type": "markdown",
   "id": "1c33221c",
   "metadata": {},
   "source": [
    "Load our libraries"
   ]
  },
  {
   "cell_type": "code",
   "execution_count": 33,
   "id": "3aac6fd1",
   "metadata": {},
   "outputs": [],
   "source": [
    "import json\n",
    "from pathlib import Path\n",
    "import mkwikidata # you may need to pip install mkwikidata"
   ]
  },
  {
   "cell_type": "markdown",
   "id": "83537ef5",
   "metadata": {},
   "source": [
    "Set up our Wikidata query"
   ]
  },
  {
   "cell_type": "code",
   "execution_count": 34,
   "id": "eea05079",
   "metadata": {},
   "outputs": [],
   "source": [
    "query = \"\"\"\n",
    "SELECT ?typeLabel ?item ?itemLabel  ?inception ?website ?twitter ?GSS ?WDTK WHERE {\n",
    "  ?item wdt:P31/wdt:P279* wd:Q837766 . #Instance of or sub-class of Local Authority\n",
    "  ?item wdt:P17 wd:Q145 . #in UK\n",
    "  ?item wdt:P31 ?type . #get type \n",
    "  MINUS {?item wdt:P576 ?abol .} #ignore abolished councils\n",
    "  MINUS {?item wdt:P31 wd:Q640452 .} #ignore Area Committees \n",
    "  OPTIONAL {?item wdt:P856 ?website .}\n",
    "  OPTIONAL {?item wdt:P2002 ?twitter .}\n",
    "  OPTIONAL {?item wdt:P836 ?GSS.}\n",
    "  OPTIONAL {?item wdt:P8167 ?WDTK .}\n",
    "  OPTIONAL {?item wdt:P571 ?inception .}\n",
    "    SERVICE wikibase:label { bd:serviceParam wikibase:language \"en\". }\n",
    "}\n",
    "\"\"\""
   ]
  },
  {
   "cell_type": "markdown",
   "id": "a2e837d2",
   "metadata": {},
   "source": [
    "Execute the wikidata query, loading the results into a dictionary: query_result"
   ]
  },
  {
   "cell_type": "code",
   "execution_count": 35,
   "id": "00fcbd30",
   "metadata": {},
   "outputs": [],
   "source": [
    "query_result = mkwikidata.run_query(query, params={ })"
   ]
  },
  {
   "cell_type": "markdown",
   "id": "f5f0b0a9",
   "metadata": {},
   "source": [
    "Create a Python Set - wd_set - and load our itemLabels (names of councils)"
   ]
  },
  {
   "cell_type": "code",
   "execution_count": 36,
   "id": "1f85e298",
   "metadata": {},
   "outputs": [],
   "source": [
    "wd_set = set()\n",
    "\n",
    "for x in query_result[\"results\"][\"bindings\"]:\n",
    "    wd_set.add(x[\"itemLabel\"][\"value\"])\n",
    "    #print (x[\"itemLabel\"][\"value\"])"
   ]
  },
  {
   "cell_type": "markdown",
   "id": "04c14c9c",
   "metadata": {},
   "source": [
    "set the path to where the DC data is. Create a Python set to hold that data"
   ]
  },
  {
   "cell_type": "code",
   "execution_count": 37,
   "id": "3b44eb46",
   "metadata": {},
   "outputs": [],
   "source": [
    "path = Path.cwd().joinpath('data')\n",
    "dc_council_set = set()\n"
   ]
  },
  {
   "cell_type": "markdown",
   "id": "2c50ad75",
   "metadata": {},
   "source": [
    "Read the json file into our set - __if__ the council is current (ie not abolished)"
   ]
  },
  {
   "cell_type": "code",
   "execution_count": 38,
   "id": "60c17300",
   "metadata": {},
   "outputs": [],
   "source": [
    "with open (path / 'uk_local_authorities.json') as dc_file:\n",
    "    data = json.load (dc_file)\n",
    "    for item in data:\n",
    "        if item['end-date'] ==\"\":\n",
    "            dc_council_set.add(item['official-name'])"
   ]
  },
  {
   "cell_type": "markdown",
   "id": "5a80c40c",
   "metadata": {},
   "source": [
    "Check how many councils we have in DC set"
   ]
  },
  {
   "cell_type": "code",
   "execution_count": 39,
   "id": "c1ae3775",
   "metadata": {},
   "outputs": [
    {
     "name": "stdout",
     "output_type": "stream",
     "text": [
      "409\n"
     ]
    }
   ],
   "source": [
    "print(len(dc_council_set))\n"
   ]
  },
  {
   "cell_type": "markdown",
   "id": "3a66f0ee",
   "metadata": {},
   "source": [
    "Check how many in our Wikidata set"
   ]
  },
  {
   "cell_type": "code",
   "execution_count": 40,
   "id": "cf21a268",
   "metadata": {},
   "outputs": [
    {
     "name": "stdout",
     "output_type": "stream",
     "text": [
      "2923\n"
     ]
    }
   ],
   "source": [
    "print(len(wd_set))"
   ]
  },
  {
   "cell_type": "markdown",
   "id": "6fd34cc2",
   "metadata": {},
   "source": [
    "Using set theory, check how many councils are in DC's set whcih are not in our Wikidata set (derived from the Wikidata Query)"
   ]
  },
  {
   "cell_type": "code",
   "execution_count": 46,
   "id": "f47994f8",
   "metadata": {},
   "outputs": [
    {
     "name": "stdout",
     "output_type": "stream",
     "text": [
      "Councils in DC list but not in WD:  72\n",
      "======================================\n",
      "Ards and North Down Borough Council\n",
      "Armagh City, Banbridge and Craigavon Borough Council\n",
      "Blackpool Borough Council\n",
      "Bolton Metropolitan Borough Council\n",
      "Borough Council of Kings Lynn and West Norfolk\n",
      "Cambridgeshire and Peterborough Combined Authority\n",
      "Causeway Coast and Glens Borough Council\n",
      "City of Cardiff Council\n",
      "City of Westminster\n",
      "City of Wolverhampton Council\n",
      "Derry City and Strabane District Council\n",
      "Folkestone and Hythe District Council\n",
      "Gateshead Metropolitan Borough Council\n",
      "Greater London Authority\n",
      "Greater Manchester Combined Authority\n",
      "Kirklees Council\n",
      "Lisburn and Castlereagh City Council\n",
      "Liverpool City Region\n",
      "London Borough of Barking and Dagenham\n",
      "London Borough of Barnet\n",
      "London Borough of Bexley\n",
      "London Borough of Brent\n",
      "London Borough of Bromley\n",
      "London Borough of Camden\n",
      "London Borough of Croydon\n",
      "London Borough of Ealing\n",
      "London Borough of Enfield\n",
      "London Borough of Hackney\n",
      "London Borough of Hammersmith & Fulham\n",
      "London Borough of Haringey\n",
      "London Borough of Harrow\n",
      "London Borough of Havering\n",
      "London Borough of Hillingdon\n",
      "London Borough of Hounslow\n",
      "London Borough of Islington\n",
      "London Borough of Lambeth\n",
      "London Borough of Lewisham\n",
      "London Borough of Merton\n",
      "London Borough of Newham\n",
      "London Borough of Redbridge\n",
      "London Borough of Richmond upon Thames\n",
      "London Borough of Southwark\n",
      "London Borough of Sutton\n",
      "London Borough of Tower Hamlets\n",
      "London Borough of Waltham Forest\n",
      "London Borough of Wandsworth\n",
      "Mid Ulster District Council\n",
      "Mid and East Antrim Borough Council\n",
      "Middlesbrough Borough Council\n",
      "Newry, Mourne and Down District Council\n",
      "North Devon District Council\n",
      "North East Combined Authority\n",
      "North Northamptonshire Council\n",
      "North Somerset  Council\n",
      "North of Tyne Combined Authority\n",
      "Oldham Metropolitan Borough Council\n",
      "Royal Borough of Greenwich\n",
      "Royal Borough of Kensington and Chelsea\n",
      "Royal Borough of Kingston upon Thames\n",
      "Royal Borough of Windsor and Maidenhead\n",
      "Sefton Metropolitan Borough Council\n",
      "South Yorkshire Mayoral Combined Authority\n",
      "St Helens Council\n",
      "Tees Valley Combined Authority\n",
      "Telford & Wrekin Council\n",
      "Wakefield Metropolitan District Council\n",
      "West Midlands Combined Authority\n",
      "West Northamptonshire Council\n",
      "West Yorkshire Combined Authority\n",
      "West of England Combined Authority\n",
      "Wigan Metropolitan Borough Council\n",
      "Wirral Borough Council\n"
     ]
    }
   ],
   "source": [
    "print (\"Councils in DC list but not in WD: \", len(dc_council_set - wd_set))\n",
    "print(\"======================================\")\n",
    "missing_list = list(dc_council_set - wd_set)\n",
    "mising_list = missing_list.sort()\n",
    "for council in missing_list:\n",
    "    print(council)\n"
   ]
  },
  {
   "cell_type": "code",
   "execution_count": 47,
   "id": "abaa00b2",
   "metadata": {},
   "outputs": [
    {
     "name": "stdout",
     "output_type": "stream",
     "text": [
      "Councils in WD but not in DC list:  2586\n"
     ]
    }
   ],
   "source": [
    "print (\"Councils in WD but not in DC list: \",len(wd_set - dc_council_set))"
   ]
  },
  {
   "cell_type": "markdown",
   "id": "a1797273",
   "metadata": {},
   "source": [
    "The WD query contains parish councils which DC data does not. "
   ]
  }
 ],
 "metadata": {
  "kernelspec": {
   "display_name": "Python 3",
   "language": "python",
   "name": "python3"
  },
  "language_info": {
   "codemirror_mode": {
    "name": "ipython",
    "version": 3
   },
   "file_extension": ".py",
   "mimetype": "text/x-python",
   "name": "python",
   "nbconvert_exporter": "python",
   "pygments_lexer": "ipython3",
   "version": "3.7.4"
  }
 },
 "nbformat": 4,
 "nbformat_minor": 5
}

{
 "cells": [
  {
   "cell_type": "markdown",
   "id": "36fc14c3",
   "metadata": {},
   "source": [
    "Load our libraries"
   ]
  },
  {
   "cell_type": "code",
   "execution_count": 70,
   "id": "f633cba9",
   "metadata": {},
   "outputs": [],
   "source": [
    "import json\n",
    "from pathlib import Path\n",
    "import mkwikidata # you may need to pip install mkwikidata"
   ]
  },
  {
   "cell_type": "markdown",
   "id": "8b907fba",
   "metadata": {},
   "source": [
    "Set up our Wikidata query. \n",
    "\n",
    "For earlier versions see\n",
    "https://w.wiki/4wVb\n",
    "https://w.wiki/4wmP"
   ]
  },
  {
   "cell_type": "code",
   "execution_count": 84,
   "id": "b561212c",
   "metadata": {},
   "outputs": [],
   "source": [
    "query = \"\"\"\n",
    "SELECT ?typeLabel ?item ?itemLabel  ?inception ?website ?twitter ?GSS ?WDTK WHERE {\n",
    "  \n",
    "  {?item wdt:P31/wdt:P279* wd:Q837766 . }\n",
    "  UNION # Instance of or sub-class of Local Authority or London Borough\n",
    "  {?item wdt:P31 wd:Q211690 .} \n",
    "\n",
    "  ?item wdt:P17 wd:Q145 . #in UK\n",
    "  ?item wdt:P31 ?type . #get type \n",
    "  MINUS {?item wdt:P576 ?abol .} #ignore abolished councils\n",
    "  MINUS {?item wdt:P31 wd:Q640452 .} #ignore Area Committees \n",
    "  MINUS {?item wdt:P31 wd:Q7137435 .} # ignore Parish Councils\n",
    "  OPTIONAL {?item wdt:P856 ?website .}\n",
    "  OPTIONAL {?item wdt:P2002 ?twitter .}\n",
    "  OPTIONAL {?item wdt:P836 ?GSS.}\n",
    "  OPTIONAL {?item wdt:P8167 ?WDTK .}\n",
    "  OPTIONAL {?item wdt:P571 ?inception .}\n",
    "    SERVICE wikibase:label { bd:serviceParam wikibase:language \"en\". }\n",
    "}\n",
    "\"\"\""
   ]
  },
  {
   "cell_type": "markdown",
   "id": "1c16e90b",
   "metadata": {},
   "source": [
    "Execute the wikidata query, loading the results into a dictionary: query_result. "
   ]
  },
  {
   "cell_type": "code",
   "execution_count": 85,
   "id": "3c957f56",
   "metadata": {},
   "outputs": [],
   "source": [
    "query_result = mkwikidata.run_query(query, params={ })"
   ]
  },
  {
   "cell_type": "markdown",
   "id": "97444a04",
   "metadata": {},
   "source": [
    "Create a Python Set - wd_set - and load our itemLabels (names of councils)"
   ]
  },
  {
   "cell_type": "code",
   "execution_count": 86,
   "id": "7c883114",
   "metadata": {},
   "outputs": [],
   "source": [
    "wd_set = set()\n",
    "\n",
    "for x in query_result[\"results\"][\"bindings\"]:\n",
    "    wd_set.add(x[\"itemLabel\"][\"value\"])\n",
    "    #print (x[\"itemLabel\"][\"value\"])"
   ]
  },
  {
   "cell_type": "markdown",
   "id": "403926cf",
   "metadata": {},
   "source": [
    "set the path to where the DC data is. Create a Python set to hold that data"
   ]
  },
  {
   "cell_type": "code",
   "execution_count": 87,
   "id": "f3cabe2d",
   "metadata": {},
   "outputs": [],
   "source": [
    "path = Path.cwd().joinpath('data')\n",
    "dc_council_set = set()\n"
   ]
  },
  {
   "cell_type": "markdown",
   "id": "103c56f2",
   "metadata": {},
   "source": [
    "Read the json file into our set - __if__ the council is current (ie not abolished)"
   ]
  },
  {
   "cell_type": "code",
   "execution_count": 88,
   "id": "eaaa94c4",
   "metadata": {},
   "outputs": [],
   "source": [
    "with open (path / 'uk_local_authorities.json') as dc_file:\n",
    "    data = json.load (dc_file)\n",
    "    for item in data:\n",
    "        if item['end-date'] ==\"\":\n",
    "            dc_council_set.add(item['official-name'])"
   ]
  },
  {
   "cell_type": "markdown",
   "id": "3e7bc202",
   "metadata": {},
   "source": [
    "Check how many councils we have in DC set"
   ]
  },
  {
   "cell_type": "code",
   "execution_count": 89,
   "id": "85c6ec3b",
   "metadata": {},
   "outputs": [
    {
     "name": "stdout",
     "output_type": "stream",
     "text": [
      "409\n"
     ]
    }
   ],
   "source": [
    "print(len(dc_council_set))\n"
   ]
  },
  {
   "cell_type": "markdown",
   "id": "0bccbace",
   "metadata": {},
   "source": [
    "Check how many in our Wikidata set"
   ]
  },
  {
   "cell_type": "code",
   "execution_count": 90,
   "id": "41892815",
   "metadata": {},
   "outputs": [
    {
     "name": "stdout",
     "output_type": "stream",
     "text": [
      "499\n"
     ]
    }
   ],
   "source": [
    "print(len(wd_set))"
   ]
  },
  {
   "cell_type": "markdown",
   "id": "65667c0e",
   "metadata": {},
   "source": [
    "Using set theory, check how many councils are in DC's set whcih are not in our Wikidata set (derived from the Wikidata Query).\n",
    "\n",
    "This was 70+ but I've changed the query to add in London Boroughs, and updated all of the NI councils to be Local Authorities. \n",
    "\n",
    "I __suspect__ that most of the following are down to Wikidata using _common names_ as the the item title and sometimes giving the _official tital_ as an alias. "
   ]
  },
  {
   "cell_type": "code",
   "execution_count": 96,
   "id": "9c644132",
   "metadata": {},
   "outputs": [
    {
     "name": "stdout",
     "output_type": "stream",
     "text": [
      "Councils in DC list but not in WD:  34\n",
      "======================================\n",
      "Blackpool Borough Council\n",
      "Bolton Metropolitan Borough Council\n",
      "Borough Council of Kings Lynn and West Norfolk\n",
      "Cambridgeshire and Peterborough Combined Authority\n",
      "City of Cardiff Council\n",
      "City of Wolverhampton Council\n",
      "Folkestone and Hythe District Council\n",
      "Gateshead Metropolitan Borough Council\n",
      "Greater London Authority\n",
      "Greater Manchester Combined Authority\n",
      "Kirklees Council\n",
      "Liverpool City Region\n",
      "London Borough of Hammersmith & Fulham\n",
      "Mid Ulster District Council\n",
      "Middlesbrough Borough Council\n",
      "North Devon District Council\n",
      "North East Combined Authority\n",
      "North Northamptonshire Council\n",
      "North Somerset  Council\n",
      "North of Tyne Combined Authority\n",
      "Oldham Metropolitan Borough Council\n",
      "Royal Borough of Windsor and Maidenhead\n",
      "Sefton Metropolitan Borough Council\n",
      "South Yorkshire Mayoral Combined Authority\n",
      "St Helens Council\n",
      "Tees Valley Combined Authority\n",
      "Telford & Wrekin Council\n",
      "Wakefield Metropolitan District Council\n",
      "West Midlands Combined Authority\n",
      "West Northamptonshire Council\n",
      "West Yorkshire Combined Authority\n",
      "West of England Combined Authority\n",
      "Wigan Metropolitan Borough Council\n",
      "Wirral Borough Council\n"
     ]
    }
   ],
   "source": [
    "print (\"Councils in DC list but not in WD: \", len(dc_council_set - wd_set))\n",
    "print(\"======================================\")\n",
    "missing_list = list(dc_council_set - wd_set)\n",
    "mising_list = missing_list.sort()\n",
    "for council in missing_list:\n",
    "    print(council)\n"
   ]
  },
  {
   "cell_type": "code",
   "execution_count": 97,
   "id": "a19c557a",
   "metadata": {},
   "outputs": [
    {
     "name": "stdout",
     "output_type": "stream",
     "text": [
      "Councils in WD but not in DC list:  124\n"
     ]
    }
   ],
   "source": [
    "print (\"Councils in WD but not in DC list: \",len(wd_set - dc_council_set))"
   ]
  },
  {
   "cell_type": "markdown",
   "id": "cdf76553",
   "metadata": {},
   "source": [
    "The WD query contains parish councils which DC data does not. "
   ]
  },
  {
   "cell_type": "code",
   "execution_count": 95,
   "id": "9a0ecaaa",
   "metadata": {},
   "outputs": [
    {
     "name": "stdout",
     "output_type": "stream",
     "text": [
      "Councils in Wikidata list but not in DC:  124\n",
      "======================================\n",
      "Avon County Council\n",
      "Aylesbury Vale District Council\n",
      "Bala Urban District Council\n",
      "Barking and Dagenham London Borough Council\n",
      "Barnet London Borough Council\n",
      "Basildon District Council\n",
      "Bexley London Borough Council\n",
      "Blackpool Council\n",
      "Blaenau Gwent Council\n",
      "Bolton Council\n",
      "Borough Council of King's Lynn and West Norfolk\n",
      "Bournemouth Borough Council\n",
      "Breckland Council\n",
      "Brent London Borough Council\n",
      "Bromley London Borough Council\n",
      "Camden London Borough Council\n",
      "Caradon District Council\n",
      "Cardiff Council\n",
      "Carrick District Council\n",
      "Castle Point District Council\n",
      "Chester-le-Street District Council\n",
      "Chiltern District Council\n",
      "Christchurch Borough Council\n",
      "City of Lincoln District Council\n",
      "Corby Borough Council\n",
      "Corby District Council\n",
      "Croydon London Borough Council\n",
      "Cumberland County Council\n",
      "Daventry District Council\n",
      "Derwentside District Council\n",
      "Dungannon District Council\n",
      "Durham City Council\n",
      "Dyfed County Council\n",
      "Ealing London Borough Council\n",
      "Easington District Council\n",
      "East Northamptonshire Council\n",
      "East Riding County Council\n",
      "East Suffolk County Council\n",
      "Enfield London Borough Council\n",
      "Folkestone & Hythe District Council\n",
      "Gateshead Council\n",
      "Greenwich London Borough Council\n",
      "Hackney London Borough Council\n",
      "Hammersmith and Fulham London Borough Council\n",
      "Haringey London Borough Council\n",
      "Harrow London Borough Council\n",
      "Havering London Borough Council\n",
      "Hillingdon London Borough Council\n",
      "Hounslow London Borough Council\n",
      "Islington London Borough Council\n",
      "Kennet District Council\n",
      "Kensington and Chelsea London Borough Council\n",
      "Kerrier District Council\n",
      "Kettering Borough Council\n",
      "Kingston upon Thames London Borough Council\n",
      "Kirklees Metropolitan Borough Council\n",
      "Lambeth London Borough Council\n",
      "Lampeter Rural District Council\n",
      "Langbaurgh-on-Tees Borough Council\n",
      "Lewisham London Borough Council\n",
      "Llandilo Rural District Council\n",
      "London Borough of Hammersmith and Fulham\n",
      "Machynlleth Rural District Council\n",
      "Machynlleth Urban District Council\n",
      "Mallwyd Urban District Council\n",
      "Merseyside County Council\n",
      "Merton London Borough Council\n",
      "Mid Beds District Council\n",
      "Mid-Ulster District Council\n",
      "Middlesbrough Council\n",
      "Montgomeryshire County Council\n",
      "Newbury District Council\n",
      "Newham London Borough Council\n",
      "North Cornwall District Council\n",
      "North Devon Council\n",
      "North Shropshire District Council\n",
      "North Somerset Council\n",
      "North Wiltshire District Council\n",
      "Northampton Borough Council\n",
      "Northavon District Council\n",
      "Oldham Council\n",
      "Penwith District Council\n",
      "Powys Council\n",
      "Prestatyn Urban District Council\n",
      "Redbridge London Borough Council\n",
      "Richmond upon Thames London Borough Council\n",
      "Royal Commission on the Press, United Kingdom\n",
      "Rutland District Council\n",
      "Salisbury District Council\n",
      "Scottish district\n",
      "Sefton Council\n",
      "Shepway District Council\n",
      "Shropshire County Council\n",
      "South Bedfordshire District Council\n",
      "South Buckinghamshire District Council\n",
      "South Bucks District Council\n",
      "South Herefordshire District Council\n",
      "South Northamptonshire Council\n",
      "South Yorkshire County Council\n",
      "Southwark London Borough Council\n",
      "St Helens Metropolitan Borough Council\n",
      "Sutton London Borough Council\n",
      "Swansea County Borough Council\n",
      "Teesdale District Council\n",
      "Telford and Wrekin Council\n",
      "Tower Hamlets London Borough Council\n",
      "Tynedale District Council\n",
      "Wakefield Council\n",
      "Waltham Forest London Borough Council\n",
      "Wandsworth London Borough Council\n",
      "Wansbeck District Council\n",
      "Wealdon District Council\n",
      "Wear Valley District Council\n",
      "Wellingborough Borough Council\n",
      "Welwyn Hatfield District Council\n",
      "West Suffolk County Council\n",
      "West Wiltshire District Council\n",
      "Westminster City Council\n",
      "Wigan Council\n",
      "Windsor and Maidenhead Borough Council\n",
      "Wirral Council\n",
      "Wolverhampton City Council\n",
      "Wrekin District Council\n",
      "Wycombe District Council\n"
     ]
    }
   ],
   "source": [
    "print (\"Councils in Wikidata list but not in DC: \", len(wd_set - dc_council_set))\n",
    "print(\"======================================\")\n",
    "missing_list = list(wd_set - dc_council_set )\n",
    "mising_list = missing_list.sort()\n",
    "for council in missing_list:\n",
    "    print(council)"
   ]
  },
  {
   "cell_type": "code",
   "execution_count": null,
   "id": "16d2d259",
   "metadata": {},
   "outputs": [],
   "source": []
  },
  {
   "cell_type": "code",
   "execution_count": null,
   "id": "8a8a560e",
   "metadata": {},
   "outputs": [],
   "source": []
  }
 ],
 "metadata": {
  "kernelspec": {
   "display_name": "Python 3",
   "language": "python",
   "name": "python3"
  },
  "language_info": {
   "codemirror_mode": {
    "name": "ipython",
    "version": 3
   },
   "file_extension": ".py",
   "mimetype": "text/x-python",
   "name": "python",
   "nbconvert_exporter": "python",
   "pygments_lexer": "ipython3",
   "version": "3.7.4"
  }
 },
 "nbformat": 4,
 "nbformat_minor": 5
}
